{
 "cells": [
  {
   "cell_type": "code",
   "execution_count": 1,
   "id": "d901e664-e35f-4951-8119-779b1e1e7ba3",
   "metadata": {},
   "outputs": [
    {
     "name": "stdout",
     "output_type": "stream",
     "text": [
      "Setup done \n"
     ]
    },
    {
     "name": "stderr",
     "output_type": "stream",
     "text": [
      "[nltk_data] Downloading package punkt to /Users/pirachi/nltk_data...\n",
      "[nltk_data]   Package punkt is already up-to-date!\n",
      "[nltk_data] Downloading package stopwords to\n",
      "[nltk_data]     /Users/pirachi/nltk_data...\n",
      "[nltk_data]   Package stopwords is already up-to-date!\n"
     ]
    }
   ],
   "source": [
    "import os\n",
    "import pytesseract\n",
    "import cv2\n",
    "import nltk\n",
    "import json\n",
    "from pdfminer.high_level import extract_text as extract_pdf_text\n",
    "from docx import Document\n",
    "from langdetect import detect\n",
    "from transformers import pipeline\n",
    "from langdetect import detect\n",
    "from sklearn.feature_extraction.text import TfidfVectorizer\n",
    "from datetime import datetime\n",
    "from transformers import pipeline\n",
    "from docx import Document\n",
    "\n",
    "nltk.download('punkt')\n",
    "nltk.download('stopwords')\n",
    "print(\"Setup done \")"
   ]
  },
  {
   "cell_type": "code",
   "execution_count": 3,
   "id": "0afc8f33-0778-4910-9e1e-2bcf091d2ca6",
   "metadata": {},
   "outputs": [],
   "source": [
    "def extract_text_from_pdf(path):\n",
    "    return extract_pdf_text(path)\n",
    "\n",
    "def extract_text_from_docx(path):\n",
    "    doc = Document(path)\n",
    "    return \"\\n\".join([para.text for para in doc.paragraphs])\n",
    "\n",
    "def extract_text_from_txt(path):\n",
    "    with open(path, \"r\", encoding=\"utf-8\") as f:\n",
    "        return f.read()\n",
    "\n",
    "def extract_text_from_image(path):\n",
    "    image = cv2.imread(path)\n",
    "    return pytesseract.image_to_string(image)\n",
    "\n",
    "def extract_text_auto(path):\n",
    "    ext = path.split('.')[-1].lower()\n",
    "    if ext == 'pdf':\n",
    "        return extract_text_from_pdf(path)\n",
    "    elif ext == 'docx':\n",
    "        return extract_text_from_docx(path)\n",
    "    elif ext == 'txt':\n",
    "        return extract_text_from_txt(path)\n",
    "    elif ext in ['jpg', 'jpeg', 'png']:\n",
    "        return extract_text_from_image(path)\n",
    "    else:\n",
    "        return \"\""
   ]
  },
  {
   "cell_type": "code",
   "execution_count": 5,
   "id": "c032513a-dff3-41f4-bb03-320224644aa0",
   "metadata": {},
   "outputs": [
    {
     "name": "stderr",
     "output_type": "stream",
     "text": [
      "Device set to use mps:0\n"
     ]
    }
   ],
   "source": [
    "summarizer = pipeline(\"summarization\", model=\"sshleifer/distilbart-cnn-12-6\")\n",
    "\n",
    "def split_into_chunks(text, max_chars=1000):\n",
    "    paragraphs = text.split('\\n')\n",
    "    chunks, current = [], ''\n",
    "    for para in paragraphs:\n",
    "        if len(current) + len(para) < max_chars:\n",
    "            current += para + '\\n'\n",
    "        else:\n",
    "            chunks.append(current.strip())\n",
    "            current = para + '\\n'\n",
    "    if current:\n",
    "        chunks.append(current.strip())\n",
    "    return chunks\n",
    "\n",
    "def summarize_text_limited(text, max_chars=1000, max_chunks=3):\n",
    "    chunks = split_into_chunks(text, max_chars=max_chars)\n",
    "    summaries = []\n",
    "    for i, chunk in enumerate(chunks[:max_chunks]):\n",
    "        try:\n",
    "            summary = summarizer(chunk, max_length=100, min_length=30, do_sample=False)[0]['summary_text']\n",
    "            summaries.append(summary)\n",
    "        except Exception as e:\n",
    "            print(f\"Skipping chunk {i}: {e}\")\n",
    "    return \"\\n\".join(summaries)\n",
    "\n",
    "def extract_keywords(text, top_n=10):\n",
    "    vectorizer = TfidfVectorizer(stop_words='english', max_features=top_n)\n",
    "    X = vectorizer.fit_transform([text])\n",
    "    return vectorizer.get_feature_names_out()"
   ]
  },
  {
   "cell_type": "code",
   "execution_count": 7,
   "id": "b552dff6-72f5-4915-8d9b-49ac08a3d18d",
   "metadata": {},
   "outputs": [],
   "source": [
    "def generate_metadata(path):\n",
    "    text = extract_text_auto(path)\n",
    "\n",
    "    if not text or len(text.strip()) < 50:\n",
    "        return {\"error\": \"Insufficient text extracted.\"}\n",
    "\n",
    "    lang = detect(text)\n",
    "    summary = summarize_text_limited(text)\n",
    "    keywords = extract_keywords(text)\n",
    "\n",
    "    metadata = {\n",
    "        \"filename\": path.split(\"/\")[-1],\n",
    "        \"extracted_on\": datetime.now().strftime(\"%Y-%m-%d %H:%M:%S\"),\n",
    "        \"language\": lang,\n",
    "        \"summary\": summary,\n",
    "        \"keywords\": keywords.tolist(),\n",
    "        \"num_characters\": len(text),\n",
    "        \"num_words\": len(text.split())\n",
    "    }\n",
    "\n",
    "    output_path = path + \".metadata.json\"\n",
    "    with open(output_path, \"w\") as f:\n",
    "        json.dump(metadata, f, indent=4)\n",
    "\n",
    "    print(\"Metadata saved to:\", output_path)\n",
    "    return metadata"
   ]
  },
  {
   "cell_type": "code",
   "execution_count": 9,
   "id": "2f3beabf-af8a-49cc-90e9-e4de7b19425d",
   "metadata": {},
   "outputs": [
    {
     "name": "stdout",
     "output_type": "stream",
     "text": [
      "Metadata saved to: ../sample_docs/sample.docx.metadata.json\n"
     ]
    },
    {
     "data": {
      "text/plain": [
       "{'filename': 'sample.docx',\n",
       " 'extracted_on': '2025-06-25 02:49:22',\n",
       " 'language': 'en',\n",
       " 'summary': ' Alphabet Inc. registered pursuant to Section 12(b) of the SECURITIES EXCHANGE ACT of 1934 . The Securities and Exchange Commission filed a form of 10-Q at the time of the quarter ended September 30, 2024 .\\n Indicate by check mark whether the registrant has filed all reports required to be filed by Section 13 or 15(d) of the Securities Exchange Act of 1934 .\\n As of October 22, 2024, there were 5,843 million shares of Alphabet’s Class A stock outstanding . Indicate by check mark whether the registrant is a shell company (as defined in Rule 12b-2 of the Exchange Act).',\n",
       " 'keywords': ['2023',\n",
       "  '2024',\n",
       "  '30',\n",
       "  'billion',\n",
       "  'class',\n",
       "  'ended',\n",
       "  'google',\n",
       "  'months',\n",
       "  'revenues',\n",
       "  'september'],\n",
       " 'num_characters': 124809,\n",
       " 'num_words': 18792}"
      ]
     },
     "execution_count": 9,
     "metadata": {},
     "output_type": "execute_result"
    }
   ],
   "source": [
    "# generate_metadata(\"../sample_docs/sample.pdf\")\n",
    "generate_metadata(\"../sample_docs/sample.docx\")\n",
    "# generate_metadata(\"../sample_docs/sample.txt\")\n",
    "# generate_metadata(\"../sample_docs/image.jpg\")"
   ]
  },
  {
   "cell_type": "code",
   "execution_count": null,
   "id": "3ec6f79d-694e-4349-af3e-7899f48be681",
   "metadata": {},
   "outputs": [],
   "source": []
  }
 ],
 "metadata": {
  "kernelspec": {
   "display_name": "Python [conda env:base] *",
   "language": "python",
   "name": "conda-base-py"
  },
  "language_info": {
   "codemirror_mode": {
    "name": "ipython",
    "version": 3
   },
   "file_extension": ".py",
   "mimetype": "text/x-python",
   "name": "python",
   "nbconvert_exporter": "python",
   "pygments_lexer": "ipython3",
   "version": "3.12.2"
  }
 },
 "nbformat": 4,
 "nbformat_minor": 5
}
